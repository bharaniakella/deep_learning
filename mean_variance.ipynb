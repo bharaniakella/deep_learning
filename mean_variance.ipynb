{
  "nbformat": 4,
  "nbformat_minor": 0,
  "metadata": {
    "colab": {
      "provenance": [],
      "authorship_tag": "ABX9TyPkeiYfUzylZOi+R9al0AMf",
      "include_colab_link": true
    },
    "kernelspec": {
      "name": "python3",
      "display_name": "Python 3"
    },
    "language_info": {
      "name": "python"
    }
  },
  "cells": [
    {
      "cell_type": "markdown",
      "metadata": {
        "id": "view-in-github",
        "colab_type": "text"
      },
      "source": [
        "<a href=\"https://colab.research.google.com/github/bharaniakella/deep_learning/blob/main/mean_variance.ipynb\" target=\"_parent\"><img src=\"https://colab.research.google.com/assets/colab-badge.svg\" alt=\"Open In Colab\"/></a>"
      ]
    },
    {
      "cell_type": "code",
      "execution_count": 1,
      "metadata": {
        "colab": {
          "base_uri": "https://localhost:8080/"
        },
        "id": "Fnsq26hS6iXk",
        "outputId": "5f956a02-0e8a-4cd0-b090-ea0c62f5b59f"
      },
      "outputs": [
        {
          "output_type": "stream",
          "name": "stdout",
          "text": [
            "3.0\n",
            "3.0\n"
          ]
        }
      ],
      "source": [
        "import numpy as np\n",
        "\n",
        "z=np.array([1,2,3,4,5])\n",
        "print(np.mean(z))\n",
        "mn=np.sum(z)/len(z)\n",
        "print(mn)"
      ]
    },
    {
      "cell_type": "code",
      "source": [
        "np.var(z,ddof=1)#ddof is degrees of freedom"
      ],
      "metadata": {
        "colab": {
          "base_uri": "https://localhost:8080/"
        },
        "id": "buK8rQLP6022",
        "outputId": "1e9085e3-dda0-4b6a-eed7-a885142eb8e4"
      },
      "execution_count": 11,
      "outputs": [
        {
          "output_type": "execute_result",
          "data": {
            "text/plain": [
              "2.5"
            ]
          },
          "metadata": {},
          "execution_count": 11
        }
      ]
    },
    {
      "cell_type": "code",
      "source": [
        "vr=(1/(len(z)-1))*np.sum((z-mn)**2)\n",
        "vr"
      ],
      "metadata": {
        "colab": {
          "base_uri": "https://localhost:8080/"
        },
        "id": "P7XowDvP6_bS",
        "outputId": "61b7f0df-6816-4470-ac0b-44a342828d17"
      },
      "execution_count": 13,
      "outputs": [
        {
          "output_type": "execute_result",
          "data": {
            "text/plain": [
              "2.5"
            ]
          },
          "metadata": {},
          "execution_count": 13
        }
      ]
    },
    {
      "cell_type": "code",
      "source": [],
      "metadata": {
        "id": "q0_CZ_p_7ULX"
      },
      "execution_count": null,
      "outputs": []
    }
  ]
}