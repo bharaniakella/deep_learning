{
  "nbformat": 4,
  "nbformat_minor": 0,
  "metadata": {
    "colab": {
      "provenance": [],
      "authorship_tag": "ABX9TyOqfcBKQj9cWflUQeASNwdJ",
      "include_colab_link": true
    },
    "kernelspec": {
      "name": "python3",
      "display_name": "Python 3"
    },
    "language_info": {
      "name": "python"
    }
  },
  "cells": [
    {
      "cell_type": "markdown",
      "metadata": {
        "id": "view-in-github",
        "colab_type": "text"
      },
      "source": [
        "<a href=\"https://colab.research.google.com/github/bharaniakella/deep_learning/blob/main/entropy.ipynb\" target=\"_parent\"><img src=\"https://colab.research.google.com/assets/colab-badge.svg\" alt=\"Open In Colab\"/></a>"
      ]
    },
    {
      "cell_type": "code",
      "execution_count": 1,
      "metadata": {
        "id": "PV2q94DusAJV"
      },
      "outputs": [],
      "source": [
        "#high entropy means the data has a lot of variability\n",
        "#low entropy means there is a lot of redundant data(most of the values repeat in the data)"
      ]
    },
    {
      "cell_type": "code",
      "source": [
        "#entropy using for loop\n",
        "import numpy as np\n",
        "\n",
        "x=np.array([0.25,0.75])\n",
        "H=0\n",
        "for p in x:\n",
        "  H-=p*np.log(p)\n",
        "\n",
        "H"
      ],
      "metadata": {
        "colab": {
          "base_uri": "https://localhost:8080/"
        },
        "id": "mRDJHKo1vPOw",
        "outputId": "736289d0-657c-4d62-88ea-57f56ba8f5d0"
      },
      "execution_count": 13,
      "outputs": [
        {
          "output_type": "execute_result",
          "data": {
            "text/plain": [
              "0.5623351446188083"
            ]
          },
          "metadata": {},
          "execution_count": 13
        }
      ]
    },
    {
      "cell_type": "code",
      "source": [
        "#binary entropy\n",
        "\n",
        "p=0.25\n",
        "\n",
        "H=-((p*np.log(p))+((1-p)*np.log(1-p)))\n",
        "H"
      ],
      "metadata": {
        "colab": {
          "base_uri": "https://localhost:8080/"
        },
        "id": "v9zwSyLJvi8U",
        "outputId": "a633b498-a9dd-4d45-f03c-0ed18c6abc62"
      },
      "execution_count": 17,
      "outputs": [
        {
          "output_type": "execute_result",
          "data": {
            "text/plain": [
              "0.5623351446188083"
            ]
          },
          "metadata": {},
          "execution_count": 17
        }
      ]
    },
    {
      "cell_type": "code",
      "source": [
        "#cross entropy\n",
        "\n",
        "p=[1,0]\n",
        "q=[0.25,0.75]\n",
        "\n",
        "for i in range(len(p)):\n",
        "  H-=p[i]*np.log(q[i])\n",
        "H"
      ],
      "metadata": {
        "colab": {
          "base_uri": "https://localhost:8080/"
        },
        "id": "R6Ocho62v_ef",
        "outputId": "f152b69d-3999-47fa-e357-bb349760baa8"
      },
      "execution_count": 23,
      "outputs": [
        {
          "output_type": "execute_result",
          "data": {
            "text/plain": [
              "8.880101311338152"
            ]
          },
          "metadata": {},
          "execution_count": 23
        }
      ]
    },
    {
      "cell_type": "code",
      "source": [
        "#binary crossentropy\n",
        "H=-(p[0]*np.log(q[0])+p[1]*np.log(q[1]))\n",
        "\n",
        "H"
      ],
      "metadata": {
        "colab": {
          "base_uri": "https://localhost:8080/"
        },
        "id": "V45q39qzw0Kq",
        "outputId": "aba4f120-a5a9-46c6-a62e-15a41ad0232d"
      },
      "execution_count": 27,
      "outputs": [
        {
          "output_type": "execute_result",
          "data": {
            "text/plain": [
              "1.3862943611198906"
            ]
          },
          "metadata": {},
          "execution_count": 27
        }
      ]
    },
    {
      "cell_type": "code",
      "source": [
        "#entropy with torch"
      ],
      "metadata": {
        "id": "eMwzCgBEyUqe"
      },
      "execution_count": 28,
      "outputs": []
    },
    {
      "cell_type": "code",
      "source": [
        "import torch\n",
        "import torch.nn.functional as F"
      ],
      "metadata": {
        "id": "hMDTa3uLyYwq"
      },
      "execution_count": 30,
      "outputs": []
    },
    {
      "cell_type": "code",
      "source": [
        "p_tensor=torch.Tensor(p)\n",
        "q_tensor=torch.Tensor(q)\n",
        "\n",
        "F.binary_cross_entropy(q_tensor,p_tensor)"
      ],
      "metadata": {
        "colab": {
          "base_uri": "https://localhost:8080/"
        },
        "id": "bvKvSVUyyhP2",
        "outputId": "e6c66ff9-dcda-47fb-bf69-e3f78fb25daa"
      },
      "execution_count": 31,
      "outputs": [
        {
          "output_type": "execute_result",
          "data": {
            "text/plain": [
              "tensor(1.3863)"
            ]
          },
          "metadata": {},
          "execution_count": 31
        }
      ]
    },
    {
      "cell_type": "code",
      "source": [],
      "metadata": {
        "id": "-sTaMejeyy25"
      },
      "execution_count": null,
      "outputs": []
    }
  ]
}