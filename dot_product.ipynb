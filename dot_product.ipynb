{
  "nbformat": 4,
  "nbformat_minor": 0,
  "metadata": {
    "colab": {
      "provenance": []
    },
    "kernelspec": {
      "name": "python3",
      "display_name": "Python 3"
    },
    "language_info": {
      "name": "python"
    }
  },
  "cells": [
    {
      "cell_type": "code",
      "source": [
        "#for dot product, the number of elements always has to be same\n",
        "#the dot product will always give a single value at the end\n",
        "#to find the similarities between two objects"
      ],
      "metadata": {
        "id": "U7SrmjJ8GWRx"
      },
      "execution_count": null,
      "outputs": []
    },
    {
      "cell_type": "code",
      "execution_count": null,
      "metadata": {
        "id": "5G0ukQ6mGEZt"
      },
      "outputs": [],
      "source": [
        "import numpy as np\n",
        "import torch"
      ]
    },
    {
      "cell_type": "code",
      "source": [
        "n1=np.array([1,2,3])\n",
        "n2=np.array([4,5,6])\n",
        "#dot product using dot method\n",
        "np.dot(n1,n2)"
      ],
      "metadata": {
        "colab": {
          "base_uri": "https://localhost:8080/"
        },
        "id": "YJABE0c6GMRo",
        "outputId": "e530d403-4d9f-4bc2-8df6-f524816ebf86"
      },
      "execution_count": null,
      "outputs": [
        {
          "output_type": "execute_result",
          "data": {
            "text/plain": [
              "32"
            ]
          },
          "metadata": {},
          "execution_count": 2
        }
      ]
    },
    {
      "cell_type": "code",
      "source": [
        "#dot product using basic ops\n",
        "\n",
        "np.sum(n1*n2)"
      ],
      "metadata": {
        "colab": {
          "base_uri": "https://localhost:8080/"
        },
        "id": "8bTj4EqCGlqT",
        "outputId": "2700b36e-c8c1-45df-aa73-8fc0d1854672"
      },
      "execution_count": null,
      "outputs": [
        {
          "output_type": "execute_result",
          "data": {
            "text/plain": [
              "32"
            ]
          },
          "metadata": {},
          "execution_count": 3
        }
      ]
    },
    {
      "cell_type": "code",
      "source": [
        "#dot product using pytorch\n",
        "\n",
        "t1=torch.Tensor([1,2,3])\n",
        "t2=torch.Tensor([4,5,6])\n",
        "torch.dot(t1,t2)"
      ],
      "metadata": {
        "colab": {
          "base_uri": "https://localhost:8080/"
        },
        "id": "CXGMueDHGt1u",
        "outputId": "2ce71190-4bad-44a9-d1ea-e3d9d5862551"
      },
      "execution_count": null,
      "outputs": [
        {
          "output_type": "execute_result",
          "data": {
            "text/plain": [
              "tensor(32.)"
            ]
          },
          "metadata": {},
          "execution_count": 5
        }
      ]
    },
    {
      "cell_type": "markdown",
      "source": [],
      "metadata": {
        "id": "x_dGKUhhJspD"
      }
    },
    {
      "cell_type": "code",
      "source": [
        "#dot product using pytorch with basic operations"
      ],
      "metadata": {
        "id": "AhJhwWb2G6H0"
      },
      "execution_count": null,
      "outputs": []
    },
    {
      "cell_type": "code",
      "source": [
        "torch.sum(t1*t2)"
      ],
      "metadata": {
        "colab": {
          "base_uri": "https://localhost:8080/"
        },
        "id": "QaS1fUOsHAfO",
        "outputId": "a9a2b60b-e354-421d-cf29-6c1b52c464b8"
      },
      "execution_count": null,
      "outputs": [
        {
          "output_type": "execute_result",
          "data": {
            "text/plain": [
              "tensor(32.)"
            ]
          },
          "metadata": {},
          "execution_count": 7
        }
      ]
    },
    {
      "cell_type": "code",
      "source": [],
      "metadata": {
        "id": "neePDORuHC16"
      },
      "execution_count": null,
      "outputs": []
    }
  ]
}