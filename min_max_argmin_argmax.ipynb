{
  "nbformat": 4,
  "nbformat_minor": 0,
  "metadata": {
    "colab": {
      "provenance": [],
      "authorship_tag": "ABX9TyMAfgsqtfuGnxS1P6KhRHvq",
      "include_colab_link": true
    },
    "kernelspec": {
      "name": "python3",
      "display_name": "Python 3"
    },
    "language_info": {
      "name": "python"
    }
  },
  "cells": [
    {
      "cell_type": "markdown",
      "metadata": {
        "id": "view-in-github",
        "colab_type": "text"
      },
      "source": [
        "<a href=\"https://colab.research.google.com/github/bharaniakella/deep_learning/blob/main/min_max_argmin_argmax.ipynb\" target=\"_parent\"><img src=\"https://colab.research.google.com/assets/colab-badge.svg\" alt=\"Open In Colab\"/></a>"
      ]
    },
    {
      "cell_type": "code",
      "execution_count": 1,
      "metadata": {
        "colab": {
          "base_uri": "https://localhost:8080/"
        },
        "id": "wn4WJF4r2urT",
        "outputId": "6eda249c-9e25-43b4-f69c-62ef867a7ee0"
      },
      "outputs": [
        {
          "output_type": "stream",
          "name": "stdout",
          "text": [
            "-1\n",
            "40\n",
            "2\n",
            "1\n"
          ]
        }
      ],
      "source": [
        "import numpy as np\n",
        "\n",
        "a=[2,-1,40,3]\n",
        "print(np.min(a))\n",
        "print(np.max(a))\n",
        "print(np.argmax(a))\n",
        "print(np.argmin(a))"
      ]
    },
    {
      "cell_type": "code",
      "source": [
        "b=np.array([[4,5,1],[8,3,11]])\n",
        "print(b)\n",
        "print(np.min(b))\n",
        "print(np.min(b,axis=0))\n",
        "print(np.min(b,axis=1))"
      ],
      "metadata": {
        "colab": {
          "base_uri": "https://localhost:8080/"
        },
        "id": "GvNz87FL2-q1",
        "outputId": "e2216479-fd67-44a4-ae13-7e521992d880"
      },
      "execution_count": 5,
      "outputs": [
        {
          "output_type": "stream",
          "name": "stdout",
          "text": [
            "[[ 4  5  1]\n",
            " [ 8  3 11]]\n",
            "1\n",
            "[4 3 1]\n",
            "[1 3]\n"
          ]
        }
      ]
    },
    {
      "cell_type": "code",
      "source": [
        "b=np.array([[4,5,1],[8,3,11]])\n",
        "print(b)\n",
        "print(np.argmin(b))\n",
        "print(np.argmin(b,axis=0))\n",
        "print(np.argmin(b,axis=1))"
      ],
      "metadata": {
        "colab": {
          "base_uri": "https://localhost:8080/"
        },
        "id": "6R_091mm3TS8",
        "outputId": "f00e4b3b-8805-4632-bc44-e55d47b6531c"
      },
      "execution_count": 6,
      "outputs": [
        {
          "output_type": "stream",
          "name": "stdout",
          "text": [
            "[[ 4  5  1]\n",
            " [ 8  3 11]]\n",
            "2\n",
            "[0 1 0]\n",
            "[2 1]\n"
          ]
        }
      ]
    },
    {
      "cell_type": "code",
      "source": [
        "#using torch\n",
        "import torch\n",
        "z=torch.Tensor([[4,5,1],[8,3,11]])\n",
        "print(z)\n",
        "print(torch.argmin(z))\n",
        "print(torch.argmin(z,axis=0))\n",
        "print(torch.argmin(z,axis=1))"
      ],
      "metadata": {
        "colab": {
          "base_uri": "https://localhost:8080/"
        },
        "id": "94mvdLpd3qZm",
        "outputId": "6f7944f1-b957-4e5b-a994-bcd64a935496"
      },
      "execution_count": 9,
      "outputs": [
        {
          "output_type": "stream",
          "name": "stdout",
          "text": [
            "tensor([[ 4.,  5.,  1.],\n",
            "        [ 8.,  3., 11.]])\n",
            "tensor(2)\n",
            "tensor([0, 1, 0])\n",
            "tensor([2, 1])\n"
          ]
        }
      ]
    },
    {
      "cell_type": "code",
      "source": [],
      "metadata": {
        "id": "FXBK4OZl38WG"
      },
      "execution_count": null,
      "outputs": []
    }
  ]
}