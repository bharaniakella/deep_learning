{
  "nbformat": 4,
  "nbformat_minor": 0,
  "metadata": {
    "colab": {
      "provenance": [],
      "authorship_tag": "ABX9TyMu2I7nLkedh4J8Zpzs9rB4",
      "include_colab_link": true
    },
    "kernelspec": {
      "name": "python3",
      "display_name": "Python 3"
    },
    "language_info": {
      "name": "python"
    }
  },
  "cells": [
    {
      "cell_type": "markdown",
      "metadata": {
        "id": "view-in-github",
        "colab_type": "text"
      },
      "source": [
        "<a href=\"https://colab.research.google.com/github/bharaniakella/deep_learning/blob/main/matrix_multiplication.ipynb\" target=\"_parent\"><img src=\"https://colab.research.google.com/assets/colab-badge.svg\" alt=\"Open In Colab\"/></a>"
      ]
    },
    {
      "cell_type": "code",
      "source": [
        "# matrix1=m*n\n",
        "# matrix2=n*k\n",
        "#matmul result -> m*k"
      ],
      "metadata": {
        "id": "EvKFlFCkKKTE"
      },
      "execution_count": null,
      "outputs": []
    },
    {
      "cell_type": "code",
      "execution_count": 1,
      "metadata": {
        "id": "IsC_sR1mHMOt"
      },
      "outputs": [],
      "source": [
        "import numpy as np\n",
        "import torch"
      ]
    },
    {
      "cell_type": "code",
      "source": [
        "#matrix multiplication with numpy\n",
        "\n",
        "n1=np.random.randn(4,5)\n",
        "n2=np.random.randn(5,4)\n",
        "print(n1)\n",
        "print(\"\\n\")\n",
        "print(n2)"
      ],
      "metadata": {
        "colab": {
          "base_uri": "https://localhost:8080/"
        },
        "id": "XYpqBX-XJxeC",
        "outputId": "deb10703-6f86-47ae-a5e6-c54225e64452"
      },
      "execution_count": 3,
      "outputs": [
        {
          "output_type": "stream",
          "name": "stdout",
          "text": [
            "[[-0.32630816  0.52554526 -0.5479598  -0.44207293 -0.59130907]\n",
            " [ 0.28133924  1.68101246 -0.20902315  0.67908897  0.7518349 ]\n",
            " [-0.92703562  0.08927851  0.07858804 -0.4876     -0.43877525]\n",
            " [ 0.71013407 -1.08750645 -1.28551383  0.71273038 -0.1211067 ]]\n",
            "\n",
            "\n",
            "[[ 0.39132314  1.68580497 -0.20172656 -0.81121753]\n",
            " [ 0.26602302  0.82101933  1.11101939 -1.33392104]\n",
            " [ 0.06827554  0.06852612  0.09998363 -0.10530917]\n",
            " [-0.25419056 -0.68999876 -0.16300611  1.28172055]\n",
            " [-0.92645711 -2.88956221 -0.21932247  0.09150474]]\n"
          ]
        }
      ]
    },
    {
      "cell_type": "code",
      "source": [
        "#using np.matmul\n",
        "\n",
        "np.matmul(n1,n2)"
      ],
      "metadata": {
        "colab": {
          "base_uri": "https://localhost:8080/"
        },
        "id": "ogYM6yHUJ-V6",
        "outputId": "5d300629-2e7e-4daa-ee94-e96e838130fc"
      },
      "execution_count": 4,
      "outputs": [
        {
          "output_type": "execute_result",
          "data": {
            "text/plain": [
              "array([[ 0.6348962 ,  1.85749544,  0.79667694, -0.99934533],\n",
              "       [-0.3261494 , -0.80094099,  1.514395  , -1.50935442],\n",
              "       [ 0.19679506,  0.12019523,  0.46977044, -0.04045593],\n",
              "       [-0.16814819,  0.07435472, -1.56964198,  1.91239027]])"
            ]
          },
          "metadata": {},
          "execution_count": 4
        }
      ]
    },
    {
      "cell_type": "code",
      "source": [
        "# using @ -> same as matmul\n",
        "\n",
        "n1@n2"
      ],
      "metadata": {
        "colab": {
          "base_uri": "https://localhost:8080/"
        },
        "id": "P5JLsP7jKHO2",
        "outputId": "37fb27d0-afab-4a79-c6d0-47a4f66f62e3"
      },
      "execution_count": 5,
      "outputs": [
        {
          "output_type": "execute_result",
          "data": {
            "text/plain": [
              "array([[ 0.6348962 ,  1.85749544,  0.79667694, -0.99934533],\n",
              "       [-0.3261494 , -0.80094099,  1.514395  , -1.50935442],\n",
              "       [ 0.19679506,  0.12019523,  0.46977044, -0.04045593],\n",
              "       [-0.16814819,  0.07435472, -1.56964198,  1.91239027]])"
            ]
          },
          "metadata": {},
          "execution_count": 5
        }
      ]
    },
    {
      "cell_type": "code",
      "source": [
        "#matmul with transpose\n",
        "\n",
        "a=np.random.randn(3,5)\n",
        "b=np.random.randn(3,4)\n",
        "\n",
        "print(a)\n",
        "print(\"\\n\")\n",
        "print(b)\n",
        "print(\"\\n\")\n",
        "a.T@b"
      ],
      "metadata": {
        "colab": {
          "base_uri": "https://localhost:8080/"
        },
        "id": "l_nGb3-2KcJJ",
        "outputId": "ca053eb1-877d-4285-8f73-c6572534bb2e"
      },
      "execution_count": 9,
      "outputs": [
        {
          "output_type": "stream",
          "name": "stdout",
          "text": [
            "[[-0.2215637   0.23596027  1.4587311  -0.10811849 -1.02967608]\n",
            " [-1.26392804  1.82181596 -1.59040018  0.09558279  0.39735238]\n",
            " [ 0.174832    1.17732913 -1.42239158 -0.64064483 -0.14405647]]\n",
            "\n",
            "\n",
            "[[-5.95653184e-01  8.40441777e-02  2.01327205e-01 -2.88376866e-01]\n",
            " [-7.15309027e-01 -1.41124598e-03 -1.49570641e+00  1.29397670e+00]\n",
            " [-7.97008775e-01  8.65387208e-01 -5.23003869e-01  5.40864881e-01]]\n",
            "\n",
            "\n"
          ]
        },
        {
          "output_type": "execute_result",
          "data": {
            "text/plain": [
              "array([[ 0.89673163,  0.13445995,  1.75442066, -1.4770391 ],\n",
              "       [-2.38205353,  1.03610562, -3.29314428,  2.9261179 ],\n",
              "       [ 1.40238835, -1.10607717,  3.4163703 , -3.24792673],\n",
              "       [ 0.50662944, -0.56362746,  0.17032873, -0.19164151],\n",
              "       [ 0.44391436, -0.21176367, -0.72628221,  0.73318439]])"
            ]
          },
          "metadata": {},
          "execution_count": 9
        }
      ]
    },
    {
      "cell_type": "code",
      "source": [
        "np.matmul(a.T,b)"
      ],
      "metadata": {
        "colab": {
          "base_uri": "https://localhost:8080/"
        },
        "id": "WP2_6_5sLhdt",
        "outputId": "0c3d1a8d-1baf-43f5-abbf-30e7979310e5"
      },
      "execution_count": 10,
      "outputs": [
        {
          "output_type": "execute_result",
          "data": {
            "text/plain": [
              "array([[ 0.89673163,  0.13445995,  1.75442066, -1.4770391 ],\n",
              "       [-2.38205353,  1.03610562, -3.29314428,  2.9261179 ],\n",
              "       [ 1.40238835, -1.10607717,  3.4163703 , -3.24792673],\n",
              "       [ 0.50662944, -0.56362746,  0.17032873, -0.19164151],\n",
              "       [ 0.44391436, -0.21176367, -0.72628221,  0.73318439]])"
            ]
          },
          "metadata": {},
          "execution_count": 10
        }
      ]
    },
    {
      "cell_type": "code",
      "source": [
        "#matrix multiplication with pytorch\n",
        "\n",
        "t1=torch.randn(3,2)\n",
        "t2=torch.randn(3,4)\n",
        "print(t1)\n",
        "print(\"\\n\")\n",
        "print(t2)"
      ],
      "metadata": {
        "colab": {
          "base_uri": "https://localhost:8080/"
        },
        "id": "JBtvfDrWL3fh",
        "outputId": "d3c11d55-6084-41b3-a6e7-942cf34cfa22"
      },
      "execution_count": 11,
      "outputs": [
        {
          "output_type": "stream",
          "name": "stdout",
          "text": [
            "tensor([[ 1.3219,  2.2816],\n",
            "        [-0.8467, -0.4761],\n",
            "        [ 0.3909,  0.4752]])\n",
            "\n",
            "\n",
            "tensor([[-1.0028, -0.1004,  1.2148, -0.1541],\n",
            "        [ 0.7267,  1.0810, -0.5107,  0.9949],\n",
            "        [-0.9395,  0.1110,  0.6253,  1.2839]])\n"
          ]
        }
      ]
    },
    {
      "cell_type": "code",
      "source": [
        "print(t1.T@t2)"
      ],
      "metadata": {
        "colab": {
          "base_uri": "https://localhost:8080/"
        },
        "id": "agyHLLpvMdAb",
        "outputId": "df3a92f9-2173-4060-886c-066928565c0e"
      },
      "execution_count": 12,
      "outputs": [
        {
          "output_type": "stream",
          "name": "stdout",
          "text": [
            "tensor([[-2.3080, -1.0045,  2.2827, -0.5442],\n",
            "        [-3.0804, -0.6909,  3.3121, -0.2151]])\n"
          ]
        }
      ]
    },
    {
      "cell_type": "code",
      "source": [
        "print(t2.T@t1)"
      ],
      "metadata": {
        "colab": {
          "base_uri": "https://localhost:8080/"
        },
        "id": "8kcUOTANMmnz",
        "outputId": "902b43b5-e7b0-465f-f1c2-02ed4ff1559d"
      },
      "execution_count": 13,
      "outputs": [
        {
          "output_type": "stream",
          "name": "stdout",
          "text": [
            "tensor([[-2.3080, -3.0804],\n",
            "        [-1.0045, -0.6909],\n",
            "        [ 2.2827,  3.3121],\n",
            "        [-0.5442, -0.2151]])\n"
          ]
        }
      ]
    },
    {
      "cell_type": "code",
      "source": [],
      "metadata": {
        "id": "YCipogoXMu8-"
      },
      "execution_count": null,
      "outputs": []
    }
  ]
}